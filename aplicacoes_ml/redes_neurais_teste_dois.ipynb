{
 "cells": [
  {
   "cell_type": "code",
   "execution_count": 7,
   "metadata": {},
   "outputs": [
    {
     "name": "stdout",
     "output_type": "stream",
     "text": [
      "[1]\n"
     ]
    }
   ],
   "source": [
    "import numpy as np\n",
    "\n",
    "from sklearn.ensemble import RandomForestClassifier\n",
    "from sklearn.neural_network import MLPClassifier\n",
    "\n",
    "input = np.array([[0,0],[0,1],[1,0],[1,1]])\n",
    "expected = np.array([0,1,1,0])\n",
    "\n",
    "\n",
    "#clf = MLPClassifier(activation='logistic', max_iter=100, hidden_layer_sizes=(2,), alpha=0.001, solver='lbfgs', verbose = True)\n",
    "clf = MLPClassifier(\n",
    "                activation='logistic',\n",
    "                max_iter=100,\n",
    "                hidden_layer_sizes=(2,),\n",
    "                solver='lbfgs')\n",
    "\n",
    "clf.fit(input, expected)\n",
    "\n",
    "predicted = clf.predict([[1, 0]])\n",
    "\n",
    "#assert clf.predict([[0, 1]]) == [0]\n",
    "#assert clf.predict([[1, 0]]) == [0]\n",
    "\n",
    "\n",
    "print(predicted)"
   ]
  }
 ],
 "metadata": {
  "kernelspec": {
   "display_name": "pos-graduacao-bP6nfZFd-py3.10",
   "language": "python",
   "name": "python3"
  },
  "language_info": {
   "codemirror_mode": {
    "name": "ipython",
    "version": 3
   },
   "file_extension": ".py",
   "mimetype": "text/x-python",
   "name": "python",
   "nbconvert_exporter": "python",
   "pygments_lexer": "ipython3",
   "version": "3.10.6"
  },
  "orig_nbformat": 4
 },
 "nbformat": 4,
 "nbformat_minor": 2
}
