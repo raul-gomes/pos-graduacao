{
 "cells": [
  {
   "cell_type": "code",
   "execution_count": 4,
   "metadata": {},
   "outputs": [],
   "source": [
    "import numpy as np\n",
    "from sklearn.neural_network import MLPClassifier"
   ]
  },
  {
   "attachments": {},
   "cell_type": "markdown",
   "metadata": {},
   "source": [
    "As indústrias ttabajara deabajara de rerefrigerantes efrigerantes e ssucos (ucos (ttreress)) estãoestão desenvolvendo uma novíssima máquina para envasamento de suco.desenvolvendo uma novíssima máquina para envasamento de suco. para se servir de suco, uma garrafa térmica, produzida pelapara se servir de suco, uma garrafa térmica, produzida pela tabajara vasilhames inc., deve ser posicionada sob o bicotabajara vasilhames inc., deve ser posicionada sob o bico envasadorenvasador.. dois sensores (sp1 e sp2) permitem identificar se a garrafa estádois sensores (sp1 e sp2) permitem identificar se a garrafa está nana posição correta; se sim, aposição correta; se sim, a envasadoraenvasadora deve ser ativadadeve ser ativada automaticamente (2 bitsautomaticamente (2 bits –– de acordo com a tabela a seguir). umde acordo com a tabela a seguir). um sensor de carga (sf) permite identificar se a massa de sucosensor de carga (sf) permite identificar se a massa de suco (previamente definida) foi(previamente definida) foi envasadaenvasada na garrafa; se o sensor (sf) forna garrafa; se o sensor (sf) for ativado, aativado, a envasadoraenvasadora deve ser desligada.deve ser desligada.ativado, aativado, a envasadoraenvasadora deve ser desligada.deve ser desligada.\n",
    "\n",
    "Sensores ENVASADORA\n",
    "SP1 SP2 SF  E2 E1\n",
    "0   0   0   0  0    Envasadora Deslicada\n",
    "0   1   0   0  0    Envasadora Deslicada\n",
    "1   0   0   0  0    Envasadora Deslicada\n",
    "1   1   0   1  0    Ativar Envasamento\n",
    "1   1   1   0  1    Desativar Envasametno"
   ]
  },
  {
   "cell_type": "code",
   "execution_count": 16,
   "metadata": {},
   "outputs": [],
   "source": [
    "envasadora_suco_inputs = [\n",
    "    [0., 0., 0.],\n",
    "    [0., 1., 0.],\n",
    "    [1., 0., 0.],\n",
    "    [1., 1., 0.],\n",
    "    [1., 1., 1.]\n",
    "    ]\n",
    "envasadora_suco_outputs = [\n",
    "    [0., 0.],\n",
    "    [0., 0.],\n",
    "    [0., 0.],\n",
    "    [1., 0.],\n",
    "    [0., 1.]    \n",
    "]\n",
    "\n",
    "mensagens_saida = {\n",
    "    '[0 0]': 'Envasadora Deslicada',\n",
    "    '[0 0]': 'Envasadora Deslicada',\n",
    "    '[0 0]': 'Envasadora Deslicada',\n",
    "    '[1 0]': 'Ativar Envasamento',\n",
    "    '[0 1]': 'Desativar Envasametno',\n",
    "}"
   ]
  },
  {
   "cell_type": "code",
   "execution_count": 18,
   "metadata": {},
   "outputs": [],
   "source": [
    "clf = MLPClassifier(\n",
    "                activation='logistic',\n",
    "                max_iter=100,\n",
    "                hidden_layer_sizes=(2,),\n",
    "                solver='lbfgs')"
   ]
  },
  {
   "cell_type": "code",
   "execution_count": 20,
   "metadata": {},
   "outputs": [
    {
     "name": "stdout",
     "output_type": "stream",
     "text": [
      "Desativar Envasametno\n"
     ]
    }
   ],
   "source": [
    "clf.fit(envasadora_suco_inputs, envasadora_suco_outputs)\n",
    "\n",
    "predicted = clf.predict([[1., 1., 1.]])\n",
    "print(mensagens_saida[str(predicted[0])])"
   ]
  },
  {
   "attachments": {},
   "cell_type": "markdown",
   "metadata": {},
   "source": [
    "As Indústrias Tabajara de Refrigerantes e Sucos (TRES) estão desenvolvendo um novíssimo bebedouro envasador de sucos plus master. Para se servir de suco, uma garrafa térmica, produzida pela Tabajara Vasilhames INC., deve ser posicionada sob o bico envasador. O cliente tem 3 opções de sucos: goiaba, manga e hortelã. O sensor (SP1) permite identificar se a garrafa está na posição correta; se sim, a envasadora deve ser ativada automaticamente. um sensor de carga (SF) permite idetificar se a massa de suco (previamente definida) foi envasada na garrafa; se o sensor (SF) for ativado, a envasadora deve ser desligada.\n",
    "Para ativar o módulo envasador, deve-se setar dois sinais de acionamento como indicado na tabela a seguir:\n",
    "(E2)  (E1)  Módulo envasador\n",
    " 0      0   Desligado\n",
    " 0      1   Envasar Goiaba\n",
    " 1      0   Envasar Manga\n",
    " 1      1   Envasar Hortelã"
   ]
  },
  {
   "attachments": {},
   "cell_type": "markdown",
   "metadata": {},
   "source": [
    "Sensores                Envasadora\n",
    "GO  MA  HO  SP1  SF     E2  E1\n",
    "1   0   0   0    0      0   0   Desligada\n",
    "1   0   0   1    0      0   1   Envasar Goiaba\n",
    "1   0   0   1    1      0   0   Desligada\n",
    "0   1   0   0    0      0   0   Desligada\n",
    "0   1   0   1    0      1   0   Envasar Manga\n",
    "0   1   0   1    1      0   0   Desligada\n",
    "0   0   1   0    0      0   0   Desligada\n",
    "0   0   1   1    0      1   1   Envasar Hortelã\n",
    "0   0   1   1    1      0   0   Desligada\n"
   ]
  },
  {
   "cell_type": "code",
   "execution_count": 31,
   "metadata": {},
   "outputs": [],
   "source": [
    "envasadora_sucos_inputs = [\n",
    "    [1., 0., 0., 0., 0.],\n",
    "    [1., 0., 0., 1., 0.],\n",
    "    [1., 0., 0., 1., 1.],\n",
    "    [0., 1., 0., 0., 0.],\n",
    "    [0., 1., 0., 1., 0.],\n",
    "    [0., 1., 0., 1., 1.],\n",
    "    [0., 0., 1., 0., 0.],\n",
    "    [0., 0., 1., 1., 0.],\n",
    "    [0., 0., 1., 1., 1.],\n",
    "]\n",
    "envasadora_sucos_outputs = [\n",
    "    [0., 0.],\n",
    "    [0., 1.],\n",
    "    [0., 0.],\n",
    "    [0., 0.],\n",
    "    [1., 0.],\n",
    "    [0., 0.],\n",
    "    [0., 0.],\n",
    "    [1., 1.],\n",
    "    [0., 0.],\n",
    "]\n",
    "\n",
    "mensagens_saida = {\n",
    "    '[0 0]': 'Desligada',\n",
    "    '[0 1]': 'Envasar Goiaba',\n",
    "    '[0 0]': 'Desligada',\n",
    "    '[0 0]': 'Desligada',\n",
    "    '[1 0]': 'Envasar Manga',\n",
    "    '[0 0]': 'Desligada',\n",
    "    '[0 0]': 'Desligada',\n",
    "    '[1 1]': 'Envasar Hortelã',\n",
    "    '[0 0]': 'Desligada',\n",
    "}"
   ]
  },
  {
   "cell_type": "code",
   "execution_count": 25,
   "metadata": {},
   "outputs": [
    {
     "data": {
      "text/html": [
       "<style>#sk-container-id-1 {color: black;background-color: white;}#sk-container-id-1 pre{padding: 0;}#sk-container-id-1 div.sk-toggleable {background-color: white;}#sk-container-id-1 label.sk-toggleable__label {cursor: pointer;display: block;width: 100%;margin-bottom: 0;padding: 0.3em;box-sizing: border-box;text-align: center;}#sk-container-id-1 label.sk-toggleable__label-arrow:before {content: \"▸\";float: left;margin-right: 0.25em;color: #696969;}#sk-container-id-1 label.sk-toggleable__label-arrow:hover:before {color: black;}#sk-container-id-1 div.sk-estimator:hover label.sk-toggleable__label-arrow:before {color: black;}#sk-container-id-1 div.sk-toggleable__content {max-height: 0;max-width: 0;overflow: hidden;text-align: left;background-color: #f0f8ff;}#sk-container-id-1 div.sk-toggleable__content pre {margin: 0.2em;color: black;border-radius: 0.25em;background-color: #f0f8ff;}#sk-container-id-1 input.sk-toggleable__control:checked~div.sk-toggleable__content {max-height: 200px;max-width: 100%;overflow: auto;}#sk-container-id-1 input.sk-toggleable__control:checked~label.sk-toggleable__label-arrow:before {content: \"▾\";}#sk-container-id-1 div.sk-estimator input.sk-toggleable__control:checked~label.sk-toggleable__label {background-color: #d4ebff;}#sk-container-id-1 div.sk-label input.sk-toggleable__control:checked~label.sk-toggleable__label {background-color: #d4ebff;}#sk-container-id-1 input.sk-hidden--visually {border: 0;clip: rect(1px 1px 1px 1px);clip: rect(1px, 1px, 1px, 1px);height: 1px;margin: -1px;overflow: hidden;padding: 0;position: absolute;width: 1px;}#sk-container-id-1 div.sk-estimator {font-family: monospace;background-color: #f0f8ff;border: 1px dotted black;border-radius: 0.25em;box-sizing: border-box;margin-bottom: 0.5em;}#sk-container-id-1 div.sk-estimator:hover {background-color: #d4ebff;}#sk-container-id-1 div.sk-parallel-item::after {content: \"\";width: 100%;border-bottom: 1px solid gray;flex-grow: 1;}#sk-container-id-1 div.sk-label:hover label.sk-toggleable__label {background-color: #d4ebff;}#sk-container-id-1 div.sk-serial::before {content: \"\";position: absolute;border-left: 1px solid gray;box-sizing: border-box;top: 0;bottom: 0;left: 50%;z-index: 0;}#sk-container-id-1 div.sk-serial {display: flex;flex-direction: column;align-items: center;background-color: white;padding-right: 0.2em;padding-left: 0.2em;position: relative;}#sk-container-id-1 div.sk-item {position: relative;z-index: 1;}#sk-container-id-1 div.sk-parallel {display: flex;align-items: stretch;justify-content: center;background-color: white;position: relative;}#sk-container-id-1 div.sk-item::before, #sk-container-id-1 div.sk-parallel-item::before {content: \"\";position: absolute;border-left: 1px solid gray;box-sizing: border-box;top: 0;bottom: 0;left: 50%;z-index: -1;}#sk-container-id-1 div.sk-parallel-item {display: flex;flex-direction: column;z-index: 1;position: relative;background-color: white;}#sk-container-id-1 div.sk-parallel-item:first-child::after {align-self: flex-end;width: 50%;}#sk-container-id-1 div.sk-parallel-item:last-child::after {align-self: flex-start;width: 50%;}#sk-container-id-1 div.sk-parallel-item:only-child::after {width: 0;}#sk-container-id-1 div.sk-dashed-wrapped {border: 1px dashed gray;margin: 0 0.4em 0.5em 0.4em;box-sizing: border-box;padding-bottom: 0.4em;background-color: white;}#sk-container-id-1 div.sk-label label {font-family: monospace;font-weight: bold;display: inline-block;line-height: 1.2em;}#sk-container-id-1 div.sk-label-container {text-align: center;}#sk-container-id-1 div.sk-container {/* jupyter's `normalize.less` sets `[hidden] { display: none; }` but bootstrap.min.css set `[hidden] { display: none !important; }` so we also need the `!important` here to be able to override the default hidden behavior on the sphinx rendered scikit-learn.org. See: https://github.com/scikit-learn/scikit-learn/issues/21755 */display: inline-block !important;position: relative;}#sk-container-id-1 div.sk-text-repr-fallback {display: none;}</style><div id=\"sk-container-id-1\" class=\"sk-top-container\"><div class=\"sk-text-repr-fallback\"><pre>MLPClassifier(activation=&#x27;logistic&#x27;, hidden_layer_sizes=(2,), max_iter=100,\n",
       "              solver=&#x27;lbfgs&#x27;)</pre><b>In a Jupyter environment, please rerun this cell to show the HTML representation or trust the notebook. <br />On GitHub, the HTML representation is unable to render, please try loading this page with nbviewer.org.</b></div><div class=\"sk-container\" hidden><div class=\"sk-item\"><div class=\"sk-estimator sk-toggleable\"><input class=\"sk-toggleable__control sk-hidden--visually\" id=\"sk-estimator-id-1\" type=\"checkbox\" checked><label for=\"sk-estimator-id-1\" class=\"sk-toggleable__label sk-toggleable__label-arrow\">MLPClassifier</label><div class=\"sk-toggleable__content\"><pre>MLPClassifier(activation=&#x27;logistic&#x27;, hidden_layer_sizes=(2,), max_iter=100,\n",
       "              solver=&#x27;lbfgs&#x27;)</pre></div></div></div></div></div>"
      ],
      "text/plain": [
       "MLPClassifier(activation='logistic', hidden_layer_sizes=(2,), max_iter=100,\n",
       "              solver='lbfgs')"
      ]
     },
     "execution_count": 25,
     "metadata": {},
     "output_type": "execute_result"
    }
   ],
   "source": [
    "clf = MLPClassifier(\n",
    "                activation='logistic',\n",
    "                max_iter=100,\n",
    "                hidden_layer_sizes=(2,),\n",
    "                solver='lbfgs')\n",
    "\n",
    "clf.fit(envasadora_sucos_inputs, envasadora_sucos_outputs)"
   ]
  },
  {
   "cell_type": "code",
   "execution_count": 33,
   "metadata": {},
   "outputs": [
    {
     "name": "stdout",
     "output_type": "stream",
     "text": [
      "Envasar Hortelã\n"
     ]
    }
   ],
   "source": [
    "predicted = clf.predict([[0., 0., 1., 1., 0.]])\n",
    "\n",
    "print(mensagens_saida[str(predicted[0])])"
   ]
  }
 ],
 "metadata": {
  "kernelspec": {
   "display_name": "pos-graduacao-bP6nfZFd-py3.10",
   "language": "python",
   "name": "python3"
  },
  "language_info": {
   "codemirror_mode": {
    "name": "ipython",
    "version": 3
   },
   "file_extension": ".py",
   "mimetype": "text/x-python",
   "name": "python",
   "nbconvert_exporter": "python",
   "pygments_lexer": "ipython3",
   "version": "3.10.6"
  },
  "orig_nbformat": 4
 },
 "nbformat": 4,
 "nbformat_minor": 2
}
