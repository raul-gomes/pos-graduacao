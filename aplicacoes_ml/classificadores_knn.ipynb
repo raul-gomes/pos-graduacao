{
 "cells": [
  {
   "cell_type": "code",
   "execution_count": 3,
   "metadata": {},
   "outputs": [],
   "source": [
    "from sklearn.neighbors import KNeighborsClassifier, NearestNeighbors, NearestCentroid\n",
    "from sklearn import datasets, metrics, neighbors\n",
    "\n",
    "from matplotlib.colors import ListedColormap\n",
    "\n",
    "\n",
    "import matplotlib.pyplot as plt\n",
    "import seaborn as sns\n",
    "import numpy as np\n",
    "\n",
    "import operator\n",
    "import math\n",
    "#import turtle"
   ]
  },
  {
   "cell_type": "code",
   "execution_count": 4,
   "metadata": {},
   "outputs": [
    {
     "name": "stdout",
     "output_type": "stream",
     "text": [
      "\n",
      "VIZINHOS MAIS PROXIMOS\n",
      "[ 0 10] \t  [1.75 0.9 ]  -  [1.74 0.9 ] \t   0.010000000000000009\n",
      "[1 4] \t  [1.5 0.6]  -  [1.45 0.6 ] \t   0.050000000000000044\n",
      "[ 2 13] \t  [1.9  0.95]  -  [1.87 0.99] \t   0.04999999999999991\n",
      "[ 3 11] \t  [1.88 0.7 ]  -  [1.81 0.72] \t   0.07280109889280503\n",
      "[4 1] \t  [1.45 0.6 ]  -  [1.5 0.6] \t   0.050000000000000044\n",
      "[5 1] \t  [1.48 0.69]  -  [1.5 0.6] \t   0.09219544457292884\n",
      "[6 2] \t  [1.99 1.  ]  -  [1.9  0.95] \t   0.1029563014098701\n",
      "[ 7 10] \t  [1.72 0.98]  -  [1.74 0.9 ] \t   0.08246211251235318\n",
      "[8 9] \t  [1.65 0.8 ]  -  [1.66 0.77] \t   0.03162277660168382\n",
      "[9 8] \t  [1.66 0.77]  -  [1.65 0.8 ] \t   0.03162277660168382\n",
      "[10  0] \t  [1.74 0.9 ]  -  [1.75 0.9 ] \t   0.010000000000000009\n",
      "[11 12] \t  [1.81 0.72]  -  [1.75 0.75] \t   0.06708203932499375\n",
      "[12 11] \t  [1.75 0.75]  -  [1.81 0.72] \t   0.06708203932499375\n",
      "[13  2] \t  [1.87 0.99]  -  [1.9  0.95] \t   0.04999999999999991\n",
      "[14  3] \t  [1.88 0.78]  -  [1.88 0.7 ] \t   0.08000000000000007\n",
      "[15  0] \t  [1.79 0.91]  -  [1.75 0.9 ] \t   0.041231056256176644\n",
      "\n",
      "DISTANCIA ENTRE OS VIZINHOS\n",
      "[[0.         0.01      ]\n",
      " [0.         0.05      ]\n",
      " [0.         0.05      ]\n",
      " [0.         0.0728011 ]\n",
      " [0.         0.05      ]\n",
      " [0.         0.09219544]\n",
      " [0.         0.1029563 ]\n",
      " [0.         0.08246211]\n",
      " [0.         0.03162278]\n",
      " [0.         0.03162278]\n",
      " [0.         0.01      ]\n",
      " [0.         0.06708204]\n",
      " [0.         0.06708204]\n",
      " [0.         0.05      ]\n",
      " [0.         0.08      ]\n",
      " [0.         0.04123106]]\n"
     ]
    }
   ],
   "source": [
    "def distancia(p1,p2):\n",
    "    p1x=p1[0]\n",
    "    p1y=p1[1]\n",
    "    p2x=p2[0]\n",
    "    p2y=p2[1]    \n",
    "    dist=math.sqrt( math.pow(p1x-p2x,2)+math.pow(p1y-p2y,2))\n",
    "    return dist\n",
    "\n",
    "\n",
    "# VETOR ALTURA PESO ORIGINAL\n",
    "X1 = np.array([[1.75, 90], [1.50, 60], [1.90,95],  [1.88, 70], \n",
    "               [1.45, 60], [1.48, 69], [1.99,100], [1.72, 98],\n",
    "               [1.65, 80], [1.66, 77], [1.74,90],  [1.81, 72],\n",
    "               [1.75, 75], [1.87, 99], [1.88,78],  [1.79, 91]])\n",
    "# VETOR ALTURA PESO NORMALIZADO\n",
    "X2 = np.array([[1.75, .90], [1.50, .60], [1.90,.95],  [1.88,.70], \n",
    "               [1.45, .60], [1.48, .69], [1.99,1.00], [1.72, .98],\n",
    "               [1.65, .80], [1.66, .77], [1.74,.90],  [1.81,.72],\n",
    "               [1.75, .75], [1.87, .99], [1.88,.78],  [1.79,.91]])\n",
    "X=X2\n",
    "# CALCULAR VIZINHOS E DISTANCIAS\n",
    "nbrs = NearestNeighbors(n_neighbors=2, algorithm='kd_tree').fit(X)\n",
    "distances, indices = nbrs.kneighbors(X)\n",
    "\n",
    "#INDICE DE VIZINHOS MAIS PROXIMOS\n",
    "print(\"\\nVIZINHOS MAIS PROXIMOS\")\n",
    "for i in range(0,len(indices)):  \n",
    "  tp=indices[i]  \n",
    "  print(tp,\"\\t \",X[tp[0]],\" - \",X[tp[1]],\"\\t  \",distances[i][1])\n",
    "\n",
    "# DISTANCIAS\n",
    "print(\"\\nDISTANCIA ENTRE OS VIZINHOS\")\n",
    "print(distances)"
   ]
  }
 ],
 "metadata": {
  "kernelspec": {
   "display_name": "pos-graduacao-bP6nfZFd-py3.10",
   "language": "python",
   "name": "python3"
  },
  "language_info": {
   "codemirror_mode": {
    "name": "ipython",
    "version": 3
   },
   "file_extension": ".py",
   "mimetype": "text/x-python",
   "name": "python",
   "nbconvert_exporter": "python",
   "pygments_lexer": "ipython3",
   "version": "3.10.6"
  },
  "orig_nbformat": 4
 },
 "nbformat": 4,
 "nbformat_minor": 2
}
