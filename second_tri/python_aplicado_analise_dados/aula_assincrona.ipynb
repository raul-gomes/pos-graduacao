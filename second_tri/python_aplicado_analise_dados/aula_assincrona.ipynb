{
 "cells": [
  {
   "attachments": {},
   "cell_type": "markdown",
   "metadata": {},
   "source": [
    "Atividade aula assíncrona - 29/05"
   ]
  },
  {
   "cell_type": "code",
   "execution_count": 1,
   "metadata": {},
   "outputs": [],
   "source": [
    "import pandas as pd"
   ]
  },
  {
   "cell_type": "code",
   "execution_count": 2,
   "metadata": {},
   "outputs": [
    {
     "data": {
      "text/html": [
       "<div>\n",
       "<style scoped>\n",
       "    .dataframe tbody tr th:only-of-type {\n",
       "        vertical-align: middle;\n",
       "    }\n",
       "\n",
       "    .dataframe tbody tr th {\n",
       "        vertical-align: top;\n",
       "    }\n",
       "\n",
       "    .dataframe thead th {\n",
       "        text-align: right;\n",
       "    }\n",
       "</style>\n",
       "<table border=\"1\" class=\"dataframe\">\n",
       "  <thead>\n",
       "    <tr style=\"text-align: right;\">\n",
       "      <th></th>\n",
       "      <th>Produto</th>\n",
       "      <th>Categoria</th>\n",
       "      <th>Quantidade</th>\n",
       "      <th>Preço Unitário</th>\n",
       "      <th>Total Vendas</th>\n",
       "    </tr>\n",
       "  </thead>\n",
       "  <tbody>\n",
       "    <tr>\n",
       "      <th>0</th>\n",
       "      <td>Camiseta</td>\n",
       "      <td>Roupas</td>\n",
       "      <td>50</td>\n",
       "      <td>25.99</td>\n",
       "      <td>1299.50</td>\n",
       "    </tr>\n",
       "    <tr>\n",
       "      <th>1</th>\n",
       "      <td>Calça</td>\n",
       "      <td>Roupas</td>\n",
       "      <td>30</td>\n",
       "      <td>59.99</td>\n",
       "      <td>1799.70</td>\n",
       "    </tr>\n",
       "    <tr>\n",
       "      <th>2</th>\n",
       "      <td>Tênis</td>\n",
       "      <td>Calçados</td>\n",
       "      <td>20</td>\n",
       "      <td>89.99</td>\n",
       "      <td>1799.80</td>\n",
       "    </tr>\n",
       "    <tr>\n",
       "      <th>3</th>\n",
       "      <td>Vestido</td>\n",
       "      <td>Roupas</td>\n",
       "      <td>40</td>\n",
       "      <td>49.99</td>\n",
       "      <td>1999.60</td>\n",
       "    </tr>\n",
       "    <tr>\n",
       "      <th>4</th>\n",
       "      <td>Sapato</td>\n",
       "      <td>Calçados</td>\n",
       "      <td>15</td>\n",
       "      <td>129.99</td>\n",
       "      <td>1949.85</td>\n",
       "    </tr>\n",
       "  </tbody>\n",
       "</table>\n",
       "</div>"
      ],
      "text/plain": [
       "    Produto Categoria  Quantidade  Preço Unitário  Total Vendas\n",
       "0  Camiseta    Roupas          50           25.99       1299.50\n",
       "1     Calça    Roupas          30           59.99       1799.70\n",
       "2     Tênis  Calçados          20           89.99       1799.80\n",
       "3   Vestido    Roupas          40           49.99       1999.60\n",
       "4    Sapato  Calçados          15          129.99       1949.85"
      ]
     },
     "execution_count": 2,
     "metadata": {},
     "output_type": "execute_result"
    }
   ],
   "source": [
    "df_vendas = pd.DataFrame({\n",
    "    'Produto': ['Camiseta', 'Calça', 'Tênis', 'Vestido', 'Sapato'],\n",
    "    'Categoria': ['Roupas', 'Roupas', 'Calçados', 'Roupas', 'Calçados'],\n",
    "    'Quantidade': [50, 30, 20, 40, 15],\n",
    "    'Preço Unitário': [25.99, 59.99, 89.99, 49.99, 129.99],\n",
    "    'Total Vendas': [1299.50, 1799.70, 1799.80, 1999.60, 1949.85]\n",
    "})\n",
    "\n",
    "df_vendas.head()"
   ]
  },
  {
   "attachments": {},
   "cell_type": "markdown",
   "metadata": {},
   "source": [
    "1: Qual foi o total de vendas da loja para todos os produtos? Utilize o método sum()."
   ]
  },
  {
   "cell_type": "code",
   "execution_count": 7,
   "metadata": {},
   "outputs": [
    {
     "data": {
      "text/plain": [
       "8848.45"
      ]
     },
     "execution_count": 7,
     "metadata": {},
     "output_type": "execute_result"
    }
   ],
   "source": [
    "df_vendas['Total Vendas'].sum()"
   ]
  },
  {
   "attachments": {},
   "cell_type": "markdown",
   "metadata": {},
   "source": [
    "2: Quantos produtos diferentes foram vendidos?  Utilize o método nunique() ."
   ]
  },
  {
   "cell_type": "code",
   "execution_count": 10,
   "metadata": {},
   "outputs": [
    {
     "data": {
      "text/plain": [
       "5"
      ]
     },
     "execution_count": 10,
     "metadata": {},
     "output_type": "execute_result"
    }
   ],
   "source": [
    "df_vendas['Produto'].nunique()"
   ]
  },
  {
   "attachments": {},
   "cell_type": "markdown",
   "metadata": {},
   "source": [
    "3: Quais os produtos que, ao mesmo tempo, venderam mais que 25 unidades e têm preço unitário maior ou igual que 50? Faça uma filtragem em df_vendas com base em duas condições usando os operadores lógicos & (AND) , > (maior que) , >= (maior ou igual a)."
   ]
  },
  {
   "cell_type": "code",
   "execution_count": 14,
   "metadata": {},
   "outputs": [
    {
     "data": {
      "text/html": [
       "<div>\n",
       "<style scoped>\n",
       "    .dataframe tbody tr th:only-of-type {\n",
       "        vertical-align: middle;\n",
       "    }\n",
       "\n",
       "    .dataframe tbody tr th {\n",
       "        vertical-align: top;\n",
       "    }\n",
       "\n",
       "    .dataframe thead th {\n",
       "        text-align: right;\n",
       "    }\n",
       "</style>\n",
       "<table border=\"1\" class=\"dataframe\">\n",
       "  <thead>\n",
       "    <tr style=\"text-align: right;\">\n",
       "      <th></th>\n",
       "      <th>Produto</th>\n",
       "      <th>Categoria</th>\n",
       "      <th>Quantidade</th>\n",
       "      <th>Preço Unitário</th>\n",
       "      <th>Total Vendas</th>\n",
       "    </tr>\n",
       "  </thead>\n",
       "  <tbody>\n",
       "    <tr>\n",
       "      <th>1</th>\n",
       "      <td>Calça</td>\n",
       "      <td>Roupas</td>\n",
       "      <td>30</td>\n",
       "      <td>59.99</td>\n",
       "      <td>1799.7</td>\n",
       "    </tr>\n",
       "  </tbody>\n",
       "</table>\n",
       "</div>"
      ],
      "text/plain": [
       "  Produto Categoria  Quantidade  Preço Unitário  Total Vendas\n",
       "1   Calça    Roupas          30           59.99        1799.7"
      ]
     },
     "execution_count": 14,
     "metadata": {},
     "output_type": "execute_result"
    }
   ],
   "source": [
    "df_vendas[(df_vendas['Quantidade'] > 25 )& (df_vendas['Preço Unitário'] >= 50)]"
   ]
  }
 ],
 "metadata": {
  "kernelspec": {
   "display_name": "pos-graduacao-bP6nfZFd-py3.10",
   "language": "python",
   "name": "python3"
  },
  "language_info": {
   "codemirror_mode": {
    "name": "ipython",
    "version": 3
   },
   "file_extension": ".py",
   "mimetype": "text/x-python",
   "name": "python",
   "nbconvert_exporter": "python",
   "pygments_lexer": "ipython3",
   "version": "3.10.6"
  },
  "orig_nbformat": 4
 },
 "nbformat": 4,
 "nbformat_minor": 2
}
