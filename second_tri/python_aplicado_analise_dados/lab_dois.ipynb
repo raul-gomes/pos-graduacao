{
 "cells": [
  {
   "cell_type": "code",
   "execution_count": 18,
   "metadata": {},
   "outputs": [],
   "source": [
    "from typing import List, Tuple, Dict"
   ]
  },
  {
   "attachments": {},
   "cell_type": "markdown",
   "metadata": {},
   "source": [
    "1 - Escreva um programa que receba uma lista de inteiros como entrada e retorne uma nova lista contendo apenas os inteiros pares."
   ]
  },
  {
   "cell_type": "code",
   "execution_count": 5,
   "metadata": {},
   "outputs": [
    {
     "name": "stdout",
     "output_type": "stream",
     "text": [
      "[2, 4]\n"
     ]
    }
   ],
   "source": [
    "def only_even(list_numbers: List) -> List:\n",
    "    \"\"\"Retorna uma lista com os numeros pares.\n",
    "\n",
    "    Args:\n",
    "        list_numbers (List): lista de numeros \n",
    "\n",
    "    Returns:\n",
    "        List: numeros pares\n",
    "    \"\"\"\n",
    "    return [num for num in list_numbers if num % 2 == 0]\n",
    "\n",
    "print(only_even([1,2,3,4,5]))"
   ]
  },
  {
   "attachments": {},
   "cell_type": "markdown",
   "metadata": {},
   "source": [
    "2 - Escreva um programa que recebe uma lista de tuplas como entrada, onde cada tupla contém o nome de um aluno e sua nota correspondente, e retorna uma nova lista de tuplas contendo apenas os nomes dos alunos que tiveram nota maior ou igual a 7,0."
   ]
  },
  {
   "cell_type": "code",
   "execution_count": 17,
   "metadata": {},
   "outputs": [
    {
     "name": "stdout",
     "output_type": "stream",
     "text": [
      "[('Maria', 10)]\n"
     ]
    }
   ],
   "source": [
    "def approved_student(students: List[Tuple]) -> List[Tuple]:\n",
    "    \"\"\"Função que recebe o nome do aluno e sua nota e retorna os alunos que tem nota maior que sete.\n",
    "\n",
    "    Args:\n",
    "        students (List[Tuple]): uma lista de tupla com o aluno e a nota\n",
    "\n",
    "    Returns:\n",
    "        List[Tuple]: um lista com a tupla com o nome a nota dos alunos que obtiveram nota maior que sete.\n",
    "    \"\"\"\n",
    "    return [(student, grade) for student, grade in students if grade >= 7]\n",
    "\n",
    "print(approved_student([('Maria', 10), ('João', 5)]))"
   ]
  },
  {
   "attachments": {},
   "cell_type": "markdown",
   "metadata": {},
   "source": [
    "3 - Escreva um programa que receba uma lista de palavras como entrada e retorne um dicionário no qual as chaves são as palavras da lista e os valores são os comprimentos das palavras."
   ]
  },
  {
   "cell_type": "code",
   "execution_count": 21,
   "metadata": {},
   "outputs": [
    {
     "name": "stdout",
     "output_type": "stream",
     "text": [
      "{'Maria': 5, 'João': 4, 'paralelpipedo': 13}\n"
     ]
    }
   ],
   "source": [
    "def bag_of_word(words: List) -> Dict[str, int]:\n",
    "    \"\"\"Recebido uma lista de palavras, retorna a palavra com a sua quantidade de letras\n",
    "\n",
    "    Args:\n",
    "        words (List): uma lista de palavras\n",
    "\n",
    "    Returns:\n",
    "        Dict[str, int]: retorna um dicionário com a palavra e seu comprimento como chave e valor\n",
    "    \"\"\"\n",
    "    return {word: len(word) for word in words}\n",
    "\n",
    "\n",
    "s = ['Maria', 'João',]\n",
    "\n",
    "print(bag_of_word(s))"
   ]
  }
 ],
 "metadata": {
  "kernelspec": {
   "display_name": "pos-graduacao-bP6nfZFd-py3.10",
   "language": "python",
   "name": "python3"
  },
  "language_info": {
   "codemirror_mode": {
    "name": "ipython",
    "version": 3
   },
   "file_extension": ".py",
   "mimetype": "text/x-python",
   "name": "python",
   "nbconvert_exporter": "python",
   "pygments_lexer": "ipython3",
   "version": "3.10.6"
  },
  "orig_nbformat": 4
 },
 "nbformat": 4,
 "nbformat_minor": 2
}
