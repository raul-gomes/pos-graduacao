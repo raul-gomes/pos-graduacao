{
 "cells": [
  {
   "attachments": {},
   "cell_type": "markdown",
   "metadata": {},
   "source": [
    "1 - Escreva um programa que receba dois números inteiros como entrada e imprima sua\n",
    "soma, diferença, produto e quociente.\n"
   ]
  },
  {
   "cell_type": "code",
   "execution_count": 2,
   "metadata": {},
   "outputs": [
    {
     "name": "stdout",
     "output_type": "stream",
     "text": [
      "Soma: 30\n",
      "Diferença: -10\n",
      "Produto: 200\n",
      "Quociente: 0.5\n"
     ]
    }
   ],
   "source": [
    "num_um = int(input('Digite o primeiro numero: '))\n",
    "num_dois = int(input('Digite o primeiro numero: '))\n",
    "\n",
    "print(f'Soma: {num_um + num_dois}')\n",
    "print(f'Diferença: {num_um - num_dois}')\n",
    "print(f'Produto: {num_um * num_dois}')\n",
    "print(f'Quociente: {num_um / num_dois}')"
   ]
  },
  {
   "attachments": {},
   "cell_type": "markdown",
   "metadata": {},
   "source": [
    "2 - Escreva um programa que receba uma string como entrada e imprima seu\n",
    "comprimento, todas as letras maiúsculas, todas as letras minúsculas e o primeiro e último\n",
    "caracteres.\n"
   ]
  },
  {
   "cell_type": "code",
   "execution_count": 4,
   "metadata": {},
   "outputs": [
    {
     "name": "stdout",
     "output_type": "stream",
     "text": [
      "Comprimento: 3\n",
      "Letras maiúsculas: OLÁ\n",
      "Letras minúsculas: olá\n",
      "Primeira letra: o, Ultima letra: á\n"
     ]
    }
   ],
   "source": [
    "msg = input()\n",
    "\n",
    "print(f'Comprimento: {len(msg)}')\n",
    "print(f'Letras maiúsculas: {msg.upper()}')\n",
    "print(f'Letras minúsculas: {msg.lower()}')\n",
    "print(f'Primeira letra: {msg[0]}, Ultima letra: {msg[-1]}')"
   ]
  },
  {
   "attachments": {},
   "cell_type": "markdown",
   "metadata": {},
   "source": [
    "3 - Escreva um programa que receba uma lista de números inteiros como entrada e\n",
    "imprima apenas os números pares.\n"
   ]
  },
  {
   "cell_type": "code",
   "execution_count": 10,
   "metadata": {},
   "outputs": [
    {
     "name": "stdout",
     "output_type": "stream",
     "text": [
      "4, 10, 34, 8, 10, 20, 48, 14, 10, 40, 18\n"
     ]
    }
   ],
   "source": [
    "import random\n",
    "\n",
    "lista = [random.randrange(1, 50, 1) for i in range(15)]\n",
    "\n",
    "print(\", \".join([str(num) for num in lista if num % 2 == 0]))"
   ]
  },
  {
   "attachments": {},
   "cell_type": "markdown",
   "metadata": {},
   "source": [
    "4 - Escreva um programa que receba uma lista de strings como entrada e imprima\n",
    "apenas as strings com mais de 4 caracteres."
   ]
  },
  {
   "cell_type": "code",
   "execution_count": 17,
   "metadata": {},
   "outputs": [
    {
     "name": "stdout",
     "output_type": "stream",
     "text": [
      "oddman, ila, latera\n"
     ]
    }
   ],
   "source": [
    "from random_word import RandomWords\n",
    "\n",
    "r = RandomWords()\n",
    "\n",
    "list_words = [r.get_random_word() for i in range(10)]\n",
    "\n",
    "print(', '.join([word for word in list_words if len(word) < 4]))"
   ]
  }
 ],
 "metadata": {
  "kernelspec": {
   "display_name": "pos-graduacao-bP6nfZFd-py3.10",
   "language": "python",
   "name": "python3"
  },
  "language_info": {
   "codemirror_mode": {
    "name": "ipython",
    "version": 3
   },
   "file_extension": ".py",
   "mimetype": "text/x-python",
   "name": "python",
   "nbconvert_exporter": "python",
   "pygments_lexer": "ipython3",
   "version": "3.10.6"
  },
  "orig_nbformat": 4
 },
 "nbformat": 4,
 "nbformat_minor": 2
}
