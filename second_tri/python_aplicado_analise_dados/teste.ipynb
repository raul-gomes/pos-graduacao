{
 "cells": [
  {
   "cell_type": "code",
   "execution_count": 1,
   "metadata": {},
   "outputs": [
    {
     "data": {
      "text/plain": [
       "'bomdia'"
      ]
     },
     "execution_count": 1,
     "metadata": {},
     "output_type": "execute_result"
    }
   ],
   "source": [
    "a = 'bom'\n",
    "b = 'dia'\n",
    "c = a + b\n"
   ]
  },
  {
   "cell_type": "code",
   "execution_count": 3,
   "metadata": {},
   "outputs": [
    {
     "name": "stdout",
     "output_type": "stream",
     "text": [
      "qi\n"
     ]
    }
   ],
   "source": [
    "cond1 = (True and (True and not False)) and not (not False)\n",
    "cond2 = not ((not (not(not False)) and True))\n",
    "cond3 = (not (2 != 4) and (3 > 6)) or True\n",
    "cond4 = (2 > (2 < 3)) or not True\n",
    "cond5 = ((True or True) or True) and False\n",
    "\n",
    "if cond1:\n",
    "    print('s')\n",
    "\n",
    "if cond1 == True:\n",
    "    print('t')\n",
    "\n",
    "    if cond3:\n",
    "        print('q')\n",
    "\n",
    "if cond4:\n",
    "    print('qi')\n",
    "    if cond5:\n",
    "        print('s')\n"
   ]
  },
  {
   "cell_type": "code",
   "execution_count": 10,
   "metadata": {},
   "outputs": [
    {
     "name": "stdout",
     "output_type": "stream",
     "text": [
      "A \n"
     ]
    }
   ],
   "source": [
    "cont = 0\n",
    "mensage = 'A rápida raposa marrom salta sobre o cachorro preguiçoso'\n",
    "m1 = mensage[:2]\n",
    "m2 = mensage[9:15]\n",
    "m3 = mensage[33:]\n",
    "\n",
    "print(m1)\n",
    "#mensage = m1 + m2 + m3\n",
    "#\n",
    "#for var in mensage:\n",
    "#    cont = cont + 1\n",
    "#\n",
    "#print(cont)"
   ]
  },
  {
   "cell_type": "code",
   "execution_count": null,
   "metadata": {},
   "outputs": [],
   "source": [
    "V"
   ]
  }
 ],
 "metadata": {
  "kernelspec": {
   "display_name": "pos-graduacao-bP6nfZFd-py3.10",
   "language": "python",
   "name": "python3"
  },
  "language_info": {
   "codemirror_mode": {
    "name": "ipython",
    "version": 3
   },
   "file_extension": ".py",
   "mimetype": "text/x-python",
   "name": "python",
   "nbconvert_exporter": "python",
   "pygments_lexer": "ipython3",
   "version": "3.10.6"
  },
  "orig_nbformat": 4
 },
 "nbformat": 4,
 "nbformat_minor": 2
}
