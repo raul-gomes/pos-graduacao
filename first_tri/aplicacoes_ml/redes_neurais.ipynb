{
 "cells": [
  {
   "cell_type": "code",
   "execution_count": 3,
   "metadata": {},
   "outputs": [
    {
     "data": {
      "text/plain": [
       "'\\nO Intuito desse Jupiter e treinar uma rede neural com base em uma matriz de pixels do alfabeto.\\nIremos fazer dois padrões de amostra, uma com uma matriz com uma quantidade baixa de pixels e outra com uma quantidade maior de pixels.\\n\\nAtravés da amostragem validaremos iremos variar a quantidade de neuronios que cada rede neural irá possuir, e validar se a predição continuará a mesma.\\n\\nAcredito que tudo depende da amostragem que vamos fornecer ao modelo, quão mais preciso for, melhor será a predição do modelo.\\n'"
      ]
     },
     "execution_count": 3,
     "metadata": {},
     "output_type": "execute_result"
    }
   ],
   "source": [
    "\"\"\"\n",
    "O Intuito desse Jupiter e treinar uma rede neural com base em uma matriz de pixels do alfabeto.\n",
    "Iremos fazer dois padrões de amostra, uma com uma matriz com uma quantidade baixa de pixels e outra com uma quantidade maior de pixels.\n",
    "\n",
    "Através da amostragem validaremos iremos variar a quantidade de neuronios que cada rede neural irá possuir, e validar se a predição continuará a mesma.\n",
    "\n",
    "Acredito que tudo depende da amostragem que vamos fornecer ao modelo, quão mais preciso for, melhor será a predição do modelo.\n",
    "\"\"\""
   ]
  },
  {
   "cell_type": "code",
   "execution_count": 4,
   "metadata": {},
   "outputs": [],
   "source": [
    "# Imports\n",
    "\n",
    "import matplotlib.pyplot as plt\n",
    "import numpy as np\n",
    "import random\n",
    "\n",
    "from sklearn.neural_network import MLPClassifier\n",
    "from sklearn.datasets import make_classification\n",
    "from sklearn.model_selection import train_test_split"
   ]
  },
  {
   "cell_type": "code",
   "execution_count": 5,
   "metadata": {},
   "outputs": [],
   "source": [
    "# Entradas\n",
    "X = [      \n",
    "     [\n",
    "     1.,1.,1.,1.,\n",
    "     1.,0.,0.,1.,\n",
    "     1.,0.,0.,1.,\n",
    "     1.,1.,1.,1.,\n",
    "     1.,0.,0.,1.,\n",
    "     1.,0.,0.,1.\n",
    "     ],\n",
    "     [\n",
    "     1.,0.,0.,1.,\n",
    "     1.,0.,1.,0.,\n",
    "     1.,1.,0.,0.,\n",
    "     1.,1.,0.,0.,\n",
    "     1.,0.,1.,0.,\n",
    "     1.,0.,0.,1.\n",
    "     ],\n",
    "     [\n",
    "     1.,1.,1.,0.,\n",
    "     1.,0.,0.,1.,\n",
    "     1.,1.,1.,0.,\n",
    "     1.,0.,0.,1.,\n",
    "     1.,0.,0.,1.,\n",
    "     1.,1.,1.,0.\n",
    "     ],\n",
    "     [\n",
    "     1.,1.,1.,1.,\n",
    "     0.,1.,1.,0.,\n",
    "     0.,1.,1.,0.,\n",
    "     0.,1.,1.,0.,\n",
    "     0.,1.,1.,0.,\n",
    "     1.,1.,1.,1.\n",
    "     ],\n",
    "     [\n",
    "     1.,0.,0.,0.,\n",
    "     0.,1.,0.,0.,\n",
    "     0.,0.,1.,1.,\n",
    "     0.,0.,1.,1.,\n",
    "     0.,1.,0.,0.,\n",
    "     1.,0.,0.,0.\n",
    "     ],\n",
    "     [\n",
    "     1.,1.,1.,1.,\n",
    "     1.,0.,0.,1.,\n",
    "     1.,0.,0.,1.,\n",
    "     1.,0.,0.,1.,\n",
    "     1.,0.,0.,1.,\n",
    "     1.,1.,1.,1.\n",
    "     ],\n",
    "     [\n",
    "     1.,0.,0.,1.,\n",
    "     1.,0.,0.,1.,\n",
    "     1.,0.,0.,1.,\n",
    "     1.,0.,0.,1.,\n",
    "     1.,0.,0.,1.,\n",
    "     0.,1.,1.,0.\n",
    "     ],\n",
    "     [\n",
    "     1.,0.,0.,0.,\n",
    "     1.,0.,0.,0.,\n",
    "     1.,0.,0.,0.,\n",
    "     1.,0.,0.,0.,\n",
    "     1.,0.,0.,0.,\n",
    "     1.,1.,1.,1.\n",
    "     ],\n",
    "     [\n",
    "     1.,0.,0.,1.,\n",
    "     1.,0.,0.,1.,\n",
    "     1.,0.,0.,1.,\n",
    "     1.,0.,0.,1.,\n",
    "     0.,1.,1.,0.,\n",
    "     0.,1.,1.,0.\n",
    "     ],\n",
    "     [\n",
    "     1.,1.,1.,1.,\n",
    "     0.,0.,0.,1.,\n",
    "     0.,0.,1.,0.,\n",
    "     0.,1.,0.,0.,\n",
    "     1.,0.,0.,0.,\n",
    "     1.,1.,1.,1.\n",
    "     ],\n",
    "     ]\n",
    "\n",
    "# Saídas\n",
    "y1 = [['A'], ['K'], ['B'], ['I'], ['>'],['O'], ['U'], ['L'], ['V'], ['Z']]"
   ]
  },
  {
   "cell_type": "code",
   "execution_count": 6,
   "metadata": {},
   "outputs": [],
   "source": [
    "# Entradas com uma maior quantidade de pixels\n",
    "x_high_definitions = [\n",
    "                        [\n",
    "                        1.,1.,1.,1.,1.,0.,0.,\n",
    "                        1.,0.,0.,0.,1.,0.,0.,\n",
    "                        1.,0.,0.,0.,1.,0.,0.,\n",
    "                        1.,0.,0.,0.,1.,0.,0.,\n",
    "                        1.,1.,1.,1.,1.,0.,0.,\n",
    "                        1.,0.,0.,0.,1.,0.,0.,\n",
    "                        1.,0.,0.,0.,1.,0.,0.,\n",
    "                        1.,0.,0.,0.,1.,0.,0.,\n",
    "                        1.,0.,0.,0.,1.,0.,0.\n",
    "                        ],\n",
    "                        [\n",
    "                        1.,1.,1.,1.,1.,0.,0.,\n",
    "                        1.,0.,0.,0.,1.,0.,0.,\n",
    "                        1.,0.,0.,0.,1.,0.,0.,\n",
    "                        1.,0.,0.,1.,0.,0.,0.,\n",
    "                        1.,1.,1.,0.,0.,0.,0.,\n",
    "                        1.,0.,0.,1.,0.,0.,0.,\n",
    "                        1.,0.,0.,0.,1.,0.,0.,\n",
    "                        1.,0.,0.,0.,1.,0.,0.,\n",
    "                        1.,1.,1.,1.,1.,0.,0.\n",
    "                        ],\n",
    "                        [\n",
    "                        1.,0.,0.,0.,0.,0.,1.,\n",
    "                        0.,1.,0.,0.,0.,1.,0.,\n",
    "                        0.,0.,1.,0.,1.,0.,0.,\n",
    "                        0.,0.,0.,1.,0.,0.,0.,\n",
    "                        0.,0.,1.,0.,1.,0.,0.,\n",
    "                        0.,1.,0.,0.,0.,1.,0.,\n",
    "                        1.,0.,0.,0.,0.,0.,1.,\n",
    "                        0.,0.,0.,0.,0.,0.,0.,\n",
    "                        0.,0.,0.,0.,0.,0.,0.\n",
    "                        ],\n",
    "                        \n",
    "                    ]\n",
    "\n",
    "# Saídas\n",
    "y_high_definition = [['A'], ['B'], ['X']]\n"
   ]
  },
  {
   "cell_type": "code",
   "execution_count": 7,
   "metadata": {},
   "outputs": [],
   "source": [
    "# Amostragens\n",
    "b = [\n",
    "    1.,1.,1.,1.,0.,0.,0.,\n",
    "    0.,0.,0.,0.,0.,0.,0.,\n",
    "    1.,0.,0.,0.,0.,0.,0.,\n",
    "    0.,0.,0.,1.,0.,0.,0.,\n",
    "    1.,1.,0.,0.,0.,0.,0.,\n",
    "    1.,0.,0.,1.,0.,0.,0.,\n",
    "    1.,0.,0.,0.,0.,0.,0.,\n",
    "    1.,0.,0.,0.,1.,0.,0.,\n",
    "    1.,1.,1.,0.,1.,0.,0.\n",
    "    ]\n",
    "\n",
    "k = [1.,0.,0.,1.,\n",
    "    0.,0.,0.,1.,\n",
    "    0.,0.,1.,0.,\n",
    "    1.,0.,0.,0.,\n",
    "    0.,0.,0.,0.,\n",
    "    1.,0.,0.,1.]\n",
    "\n",
    "i = [1.,1.,0.,1.,\n",
    "     0.,1.,1.,0.,\n",
    "     0.,0.,1.,0.,\n",
    "     0.,1.,0.,0.,\n",
    "     0.,1.,1.,0.,\n",
    "     1.,0.,1.,1.]\n",
    "\n",
    "u = [0.,1.,0.,1.,\n",
    "     1.,0.,0.,0.,\n",
    "     0.,0.,0.,1.,\n",
    "     1.,0.,0.,0.,\n",
    "     1.,0.,0.,1.,\n",
    "     0.,1.,0.,0.]"
   ]
  },
  {
   "cell_type": "code",
   "execution_count": 19,
   "metadata": {},
   "outputs": [
    {
     "name": "stdout",
     "output_type": "stream",
     "text": [
      "TESTANDO REDE 1: \n",
      "['B']\n"
     ]
    },
    {
     "name": "stderr",
     "output_type": "stream",
     "text": [
      "/home/raulgomes/.cache/pypoetry/virtualenvs/pos-graduacao-bP6nfZFd-py3.10/lib/python3.10/site-packages/sklearn/neural_network/_multilayer_perceptron.py:1098: DataConversionWarning: A column-vector y was passed when a 1d array was expected. Please change the shape of y to (n_samples, ), for example using ravel().\n",
      "  y = column_or_1d(y, warn=True)\n"
     ]
    }
   ],
   "source": [
    "\"\"\"\n",
    "Testamos com todos a quantidade de neuronios proposto no exercicio e todos acertaram.\n",
    "\n",
    "Caso almentarmos a quantidade de pixels na matriz, podemos perceber que será mais dificil a rede neural errar a predição.\n",
    "\"\"\"\n",
    "clf1 = MLPClassifier(solver='lbfgs',activation='logistic', alpha=1e-5,hidden_layer_sizes=(10,10), random_state=1)\n",
    "clf1.fit(x_high_definitions, y_high_definition)\n",
    "\n",
    "print(\"TESTANDO REDE 1: \")\n",
    "print(clf1.predict([b]))"
   ]
  },
  {
   "cell_type": "code",
   "execution_count": 9,
   "metadata": {},
   "outputs": [
    {
     "name": "stderr",
     "output_type": "stream",
     "text": [
      "/home/raulgomes/.cache/pypoetry/virtualenvs/pos-graduacao-bP6nfZFd-py3.10/lib/python3.10/site-packages/sklearn/neural_network/_multilayer_perceptron.py:1098: DataConversionWarning: A column-vector y was passed when a 1d array was expected. Please change the shape of y to (n_samples, ), for example using ravel().\n",
      "  y = column_or_1d(y, warn=True)\n"
     ]
    },
    {
     "name": "stdout",
     "output_type": "stream",
     "text": [
      "TESTANDO REDE 1: \n",
      "['K']\n",
      "TESTANDO REDE 1: \n",
      "['I']\n",
      "TESTANDO REDE 1: \n",
      "['O']\n"
     ]
    }
   ],
   "source": [
    "# Com (450,450) neuronios errou somente a letra 'u'.\n",
    "clf1 = MLPClassifier(solver='lbfgs',activation='logistic', alpha=1e-5,hidden_layer_sizes=(450,450), random_state=1)\n",
    "clf1.fit(X, y1)\n",
    "\n",
    "print(\"TESTANDO REDE 1: \")\n",
    "print(clf1.predict([k]))\n",
    "\n",
    "print(\"TESTANDO REDE 1: \")\n",
    "print(clf1.predict([i]))\n",
    "\n",
    "print(\"TESTANDO REDE 1: \")\n",
    "print(clf1.predict([u]))"
   ]
  },
  {
   "cell_type": "code",
   "execution_count": 10,
   "metadata": {},
   "outputs": [
    {
     "name": "stderr",
     "output_type": "stream",
     "text": [
      "/home/raulgomes/.cache/pypoetry/virtualenvs/pos-graduacao-bP6nfZFd-py3.10/lib/python3.10/site-packages/sklearn/neural_network/_multilayer_perceptron.py:1098: DataConversionWarning: A column-vector y was passed when a 1d array was expected. Please change the shape of y to (n_samples, ), for example using ravel().\n",
      "  y = column_or_1d(y, warn=True)\n"
     ]
    },
    {
     "name": "stdout",
     "output_type": "stream",
     "text": [
      "TESTANDO REDE 1: \n",
      "['Z']\n",
      "TESTANDO REDE 1: \n",
      "['I']\n",
      "TESTANDO REDE 1: \n",
      "['O']\n"
     ]
    }
   ],
   "source": [
    "# Com (250,250) neuronios errou somente a letra 'u' e 'k'.\n",
    "clf1 = MLPClassifier(solver='lbfgs',activation='logistic', alpha=1e-5,hidden_layer_sizes=(250,250), random_state=1)\n",
    "\n",
    "clf1.fit(X, y1)\n",
    "\n",
    "print(\"TESTANDO REDE 1: \")\n",
    "print(clf1.predict([k]))\n",
    "\n",
    "print(\"TESTANDO REDE 1: \")\n",
    "print(clf1.predict([i]))\n",
    "\n",
    "print(\"TESTANDO REDE 1: \")\n",
    "print(clf1.predict([u]))"
   ]
  },
  {
   "cell_type": "code",
   "execution_count": 11,
   "metadata": {},
   "outputs": [
    {
     "name": "stdout",
     "output_type": "stream",
     "text": [
      "TESTANDO REDE 1: \n",
      "['Z']\n",
      "TESTANDO REDE 1: \n",
      "['I']\n",
      "TESTANDO REDE 1: \n",
      "['U']\n"
     ]
    },
    {
     "name": "stderr",
     "output_type": "stream",
     "text": [
      "/home/raulgomes/.cache/pypoetry/virtualenvs/pos-graduacao-bP6nfZFd-py3.10/lib/python3.10/site-packages/sklearn/neural_network/_multilayer_perceptron.py:1098: DataConversionWarning: A column-vector y was passed when a 1d array was expected. Please change the shape of y to (n_samples, ), for example using ravel().\n",
      "  y = column_or_1d(y, warn=True)\n"
     ]
    }
   ],
   "source": [
    "# Com (100,100) neuronios errou somente a letra 'k'.\n",
    "clf1 = MLPClassifier(solver='lbfgs',activation='logistic', alpha=1e-5,hidden_layer_sizes=(100,100), random_state=1)\n",
    "\n",
    "clf1.fit(X, y1)\n",
    "\n",
    "print(\"TESTANDO REDE 1: \")\n",
    "print(clf1.predict([k]))\n",
    "\n",
    "print(\"TESTANDO REDE 1: \")\n",
    "print(clf1.predict([i]))\n",
    "\n",
    "print(\"TESTANDO REDE 1: \")\n",
    "print(clf1.predict([u]))"
   ]
  },
  {
   "cell_type": "code",
   "execution_count": 12,
   "metadata": {},
   "outputs": [
    {
     "name": "stdout",
     "output_type": "stream",
     "text": [
      "TESTANDO REDE 1: \n",
      "['A']\n",
      "TESTANDO REDE 1: \n",
      "['I']\n",
      "TESTANDO REDE 1: \n",
      "['U']\n"
     ]
    },
    {
     "name": "stderr",
     "output_type": "stream",
     "text": [
      "/home/raulgomes/.cache/pypoetry/virtualenvs/pos-graduacao-bP6nfZFd-py3.10/lib/python3.10/site-packages/sklearn/neural_network/_multilayer_perceptron.py:1098: DataConversionWarning: A column-vector y was passed when a 1d array was expected. Please change the shape of y to (n_samples, ), for example using ravel().\n",
      "  y = column_or_1d(y, warn=True)\n"
     ]
    }
   ],
   "source": [
    "# Com (50,50) neuronios errou somente a letra 'k'.\n",
    "clf1 = MLPClassifier(solver='lbfgs',activation='logistic', alpha=1e-5,hidden_layer_sizes=(50,50), random_state=1)\n",
    "\n",
    "clf1.fit(X, y1)\n",
    "\n",
    "print(\"TESTANDO REDE 1: \")\n",
    "print(clf1.predict([k]))\n",
    "\n",
    "print(\"TESTANDO REDE 1: \")\n",
    "print(clf1.predict([i]))\n",
    "\n",
    "print(\"TESTANDO REDE 1: \")\n",
    "print(clf1.predict([u]))"
   ]
  },
  {
   "cell_type": "code",
   "execution_count": 13,
   "metadata": {},
   "outputs": [
    {
     "name": "stderr",
     "output_type": "stream",
     "text": [
      "/home/raulgomes/.cache/pypoetry/virtualenvs/pos-graduacao-bP6nfZFd-py3.10/lib/python3.10/site-packages/sklearn/neural_network/_multilayer_perceptron.py:1098: DataConversionWarning: A column-vector y was passed when a 1d array was expected. Please change the shape of y to (n_samples, ), for example using ravel().\n",
      "  y = column_or_1d(y, warn=True)\n"
     ]
    },
    {
     "name": "stdout",
     "output_type": "stream",
     "text": [
      "TESTANDO REDE 1: \n",
      "['>']\n",
      "TESTANDO REDE 1: \n",
      "['I']\n",
      "TESTANDO REDE 1: \n",
      "['O']\n"
     ]
    }
   ],
   "source": [
    "# Com (10,10) neuronios errou somente a letra 'k', 'u'.\n",
    "clf1 = MLPClassifier(solver='lbfgs',activation='logistic', alpha=1e-5,hidden_layer_sizes=(10,10), random_state=1)\n",
    "\n",
    "clf1.fit(X, y1)\n",
    "\n",
    "print(\"TESTANDO REDE 1: \")\n",
    "print(clf1.predict([k]))\n",
    "\n",
    "print(\"TESTANDO REDE 1: \")\n",
    "print(clf1.predict([i]))\n",
    "\n",
    "print(\"TESTANDO REDE 1: \")\n",
    "print(clf1.predict([u]))"
   ]
  },
  {
   "cell_type": "code",
   "execution_count": 14,
   "metadata": {},
   "outputs": [
    {
     "name": "stderr",
     "output_type": "stream",
     "text": [
      "/home/raulgomes/.cache/pypoetry/virtualenvs/pos-graduacao-bP6nfZFd-py3.10/lib/python3.10/site-packages/sklearn/neural_network/_multilayer_perceptron.py:1098: DataConversionWarning: A column-vector y was passed when a 1d array was expected. Please change the shape of y to (n_samples, ), for example using ravel().\n",
      "  y = column_or_1d(y, warn=True)\n"
     ]
    },
    {
     "name": "stdout",
     "output_type": "stream",
     "text": [
      "TESTANDO REDE 1: \n",
      "['Z']\n",
      "TESTANDO REDE 1: \n",
      "['I']\n",
      "TESTANDO REDE 1: \n",
      "['O']\n"
     ]
    }
   ],
   "source": [
    "# Com (850,850) neuronios errou somente a letra 'k', 'u'.\n",
    "clf1 = MLPClassifier(solver='lbfgs',activation='logistic', alpha=1e-5,hidden_layer_sizes=(850,850), random_state=1)\n",
    "clf1.fit(X, y1)\n",
    "\n",
    "print(\"TESTANDO REDE 1: \")\n",
    "print(clf1.predict([k]))\n",
    "\n",
    "print(\"TESTANDO REDE 1: \")\n",
    "print(clf1.predict([i]))\n",
    "\n",
    "print(\"TESTANDO REDE 1: \")\n",
    "print(clf1.predict([u]))"
   ]
  },
  {
   "cell_type": "code",
   "execution_count": 15,
   "metadata": {},
   "outputs": [
    {
     "name": "stderr",
     "output_type": "stream",
     "text": [
      "/home/raulgomes/.cache/pypoetry/virtualenvs/pos-graduacao-bP6nfZFd-py3.10/lib/python3.10/site-packages/sklearn/neural_network/_multilayer_perceptron.py:1098: DataConversionWarning: A column-vector y was passed when a 1d array was expected. Please change the shape of y to (n_samples, ), for example using ravel().\n",
      "  y = column_or_1d(y, warn=True)\n"
     ]
    },
    {
     "name": "stdout",
     "output_type": "stream",
     "text": [
      "TESTANDO REDE 1: \n",
      "['Z']\n",
      "TESTANDO REDE 1: \n",
      "['I']\n",
      "TESTANDO REDE 1: \n",
      "['U']\n"
     ]
    }
   ],
   "source": [
    "# Com (1000,1000) neuronios errou somente a letra 'k'.\n",
    "clf1 = MLPClassifier(solver='lbfgs',activation='logistic', alpha=1e-5,hidden_layer_sizes=(1000,1000), random_state=1)\n",
    "clf1.fit(X, y1)\n",
    "\n",
    "print(\"TESTANDO REDE 1: \")\n",
    "print(clf1.predict([k]))\n",
    "\n",
    "print(\"TESTANDO REDE 1: \")\n",
    "print(clf1.predict([i]))\n",
    "\n",
    "print(\"TESTANDO REDE 1: \")\n",
    "print(clf1.predict([u]))"
   ]
  },
  {
   "cell_type": "code",
   "execution_count": 16,
   "metadata": {},
   "outputs": [
    {
     "name": "stderr",
     "output_type": "stream",
     "text": [
      "/home/raulgomes/.cache/pypoetry/virtualenvs/pos-graduacao-bP6nfZFd-py3.10/lib/python3.10/site-packages/sklearn/neural_network/_multilayer_perceptron.py:1098: DataConversionWarning: A column-vector y was passed when a 1d array was expected. Please change the shape of y to (n_samples, ), for example using ravel().\n",
      "  y = column_or_1d(y, warn=True)\n"
     ]
    },
    {
     "name": "stdout",
     "output_type": "stream",
     "text": [
      "TESTANDO REDE 1: \n",
      "['Z']\n",
      "TESTANDO REDE 1: \n",
      "['I']\n",
      "TESTANDO REDE 1: \n",
      "['O']\n"
     ]
    }
   ],
   "source": [
    "# Com (1500,1500) neuronios errou somente a letra 'k', 'u'.\n",
    "clf1 = MLPClassifier(solver='lbfgs',activation='logistic', alpha=1e-5,hidden_layer_sizes=(1500,1500), random_state=1)\n",
    "clf1.fit(X, y1)\n",
    "\n",
    "print(\"TESTANDO REDE 1: \")\n",
    "print(clf1.predict([k]))\n",
    "\n",
    "print(\"TESTANDO REDE 1: \")\n",
    "print(clf1.predict([i]))\n",
    "\n",
    "print(\"TESTANDO REDE 1: \")\n",
    "print(clf1.predict([u]))"
   ]
  },
  {
   "cell_type": "code",
   "execution_count": 17,
   "metadata": {},
   "outputs": [
    {
     "name": "stderr",
     "output_type": "stream",
     "text": [
      "/home/raulgomes/.cache/pypoetry/virtualenvs/pos-graduacao-bP6nfZFd-py3.10/lib/python3.10/site-packages/sklearn/neural_network/_multilayer_perceptron.py:1098: DataConversionWarning: A column-vector y was passed when a 1d array was expected. Please change the shape of y to (n_samples, ), for example using ravel().\n",
      "  y = column_or_1d(y, warn=True)\n"
     ]
    },
    {
     "name": "stdout",
     "output_type": "stream",
     "text": [
      "TESTANDO REDE 1: \n",
      "['Z']\n",
      "TESTANDO REDE 1: \n",
      "['I']\n",
      "TESTANDO REDE 1: \n",
      "['U']\n"
     ]
    }
   ],
   "source": [
    "# Com (2500,2500) neuronios errou somente a letra 'k'.\n",
    "clf1 = MLPClassifier(solver='lbfgs',activation='logistic', alpha=1e-5,hidden_layer_sizes=(2500,2500), random_state=1)\n",
    "clf1.fit(X, y1)\n",
    "\n",
    "print(\"TESTANDO REDE 1: \")\n",
    "print(clf1.predict([k]))\n",
    "\n",
    "print(\"TESTANDO REDE 1: \")\n",
    "print(clf1.predict([i]))\n",
    "\n",
    "print(\"TESTANDO REDE 1: \")\n",
    "print(clf1.predict([u]))"
   ]
  }
 ],
 "metadata": {
  "kernelspec": {
   "display_name": "pos-graduacao-bP6nfZFd-py3.10",
   "language": "python",
   "name": "python3"
  },
  "language_info": {
   "codemirror_mode": {
    "name": "ipython",
    "version": 3
   },
   "file_extension": ".py",
   "mimetype": "text/x-python",
   "name": "python",
   "nbconvert_exporter": "python",
   "pygments_lexer": "ipython3",
   "version": "3.10.6"
  },
  "orig_nbformat": 4
 },
 "nbformat": 4,
 "nbformat_minor": 2
}
